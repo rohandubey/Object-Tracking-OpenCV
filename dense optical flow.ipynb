{
 "cells": [
  {
   "cell_type": "raw",
   "metadata": {},
   "source": [
    "Dense optical flow"
   ]
  },
  {
   "cell_type": "code",
   "execution_count": 16,
   "metadata": {},
   "outputs": [],
   "source": [
    "# part 1\n",
    "# import libraries\n",
    "import cv2\n",
    "import numpy as np\n",
    "\n",
    "# Video Capture\n",
    "cap = cv2.VideoCapture(\"chaplin.mp4\") #chaplin #run\n",
    "# read the capture and get the first frame\n",
    "_,first_frame = cap.read()\n",
    "# convert to grayscale\n",
    "prev_gray=cv2.cvtColor(np.float32(first_frame),cv2.COLOR_BGR2GRAY)\n",
    "# create an image with same dim as the frame for later image\n",
    "mask = np.zeros_like(first_frame,np.uint32)\n",
    "# saturation to max\n",
    "mask[...,1] = 255\n",
    "\n",
    "# while loop\n",
    "while (cap.isOpened()):\n",
    "#     read and capture the first frame\n",
    "    _,frame=cap.read()\n",
    "    frame = cv2.flip(frame,1)\n",
    "#     diplay input frame\n",
    "    cv2.imshow(\"input\",frame)\n",
    "#     frame to gray\n",
    "    gray=cv2.cvtColor(np.float32(frame),cv2.COLOR_BGR2GRAY)\n",
    "#     callulate optical flow by Farenback\n",
    "    flow = cv2.calcOpticalFlowFarneback(prev_gray,gray,None,0.5,3,15,3,5,1.2,0)\n",
    "#     compute magnitude and angle\n",
    "    magn,angle = cv2.cartToPolar(flow[...,0],flow[...,1])\n",
    "#     set image HUE depending on optical flow direction\n",
    "    mask[...,0]= angle*180/np.pi/2\n",
    "#     normalize the magnitude\n",
    "    mask[...,2] = cv2.normalize(magn,None,0,255,cv2.NORM_MINMAX)\n",
    "#     hsv to rgb mask\n",
    "    rgb= cv2.cvtColor(np.float32(mask),cv2.COLOR_HSV2RGB)\n",
    "#     open a new window n show\n",
    "    cv2.imshow(\"Dense Optical Flow\",rgb)\n",
    "#     update previous frame\n",
    "    prev_gray = gray.copy()\n",
    "#     close frame\n",
    "    if cv2.waitKey(300) & 0xFF == ord(\"q\"):\n",
    "        break\n",
    "# release and destroy\n",
    "cap.release()\n",
    "cv2.destroyAllWindows()"
   ]
  },
  {
   "cell_type": "code",
   "execution_count": null,
   "metadata": {},
   "outputs": [],
   "source": []
  },
  {
   "cell_type": "code",
   "execution_count": null,
   "metadata": {},
   "outputs": [],
   "source": []
  }
 ],
 "metadata": {
  "kernelspec": {
   "display_name": "Python 3",
   "language": "python",
   "name": "python3"
  },
  "language_info": {
   "codemirror_mode": {
    "name": "ipython",
    "version": 3
   },
   "file_extension": ".py",
   "mimetype": "text/x-python",
   "name": "python",
   "nbconvert_exporter": "python",
   "pygments_lexer": "ipython3",
   "version": "3.8.2"
  }
 },
 "nbformat": 4,
 "nbformat_minor": 4
}
