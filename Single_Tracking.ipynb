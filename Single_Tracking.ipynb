{
 "cells": [
  {
   "cell_type": "code",
   "execution_count": 2,
   "metadata": {},
   "outputs": [
    {
     "name": "stdout",
     "output_type": "stream",
     "text": [
      "Hi, What tracker API would you like to use?\n",
      "Enter 0 for BOOSTING : \n",
      "Enter 1 for MIL : \n",
      "Enter 2 for KCF : \n",
      "Enter 3 for TLD : \n",
      "Enter 4 for MEDIANFLOW : \n",
      "Enter 5 for GOTURN : \n",
      "Enter 6 for MOSSE : \n",
      "Enter 7 for CSRT : \n"
     ]
    },
    {
     "name": "stdin",
     "output_type": "stream",
     "text": [
      "Please input ur tracker :  5\n"
     ]
    }
   ],
   "source": [
    "import cv2\n",
    "import numpy as np\n",
    "\n",
    "def ask_for_tracker():\n",
    "    print('Hi, What tracker API would you like to use?')\n",
    "    print('Enter 0 for BOOSTING : ')\n",
    "    print('Enter 1 for MIL : ')\n",
    "    print('Enter 2 for KCF : ')\n",
    "    print('Enter 3 for TLD : ')\n",
    "    print('Enter 4 for MEDIANFLOW : ')\n",
    "    print('Enter 5 for GOTURN : ')\n",
    "    print('Enter 6 for MOSSE : ')\n",
    "    print('Enter 7 for CSRT : ')\n",
    "    choice = input('Please input ur tracker : ')\n",
    "    \n",
    "    if choice=='0':\n",
    "        tracker = cv2.TrackerBoosting_create()\n",
    "    if choice=='1':\n",
    "        tracker = cv2.TrackerMIL_create()\n",
    "    if choice=='2':\n",
    "        tracker = cv2.TrackerKCF_create()\n",
    "    if choice=='3':\n",
    "        tracker = cv2.TrackerTLD_create()\n",
    "    if choice=='4':\n",
    "        tracker = cv2.TrackerMedianFlow_create()\n",
    "    if choice=='5':\n",
    "        tracker = cv2.TrackerGOTURN_create()\n",
    "    if choice=='6':\n",
    "        tracker = cv2.TrackerMOSSE_create()\n",
    "    if choice=='7':\n",
    "        tracker = cv2.TrackerCSRT_create()\n",
    "    return tracker\n",
    "tracker = ask_for_tracker()\n",
    "tracker_name = str(tracker).split()[0][1:]\n",
    "cap = cv2.VideoCapture('Vehicles.mp4')\n",
    "ret, frame = cap.read()\n",
    "roi = cv2.selectROI(frame)\n",
    "ret = tracker.init(frame,roi)\n",
    "\n",
    "# while loop\n",
    "while True:\n",
    "    ret,frame = cap.read()\n",
    "    success,roi = tracker.update(frame)\n",
    "    (x,y,w,h) = tuple(map(int,roi))\n",
    "    if success:\n",
    "        pts1 = (x,y)\n",
    "        pts2 = (x+w,y+h)\n",
    "        cv2.rectangle(frame,pts1,pts2,(255,125,25),2)\n",
    "    else:\n",
    "        cv2.putText(frame,'Failed to detect',(100,200),cv2.FONT_HERSHEY_SCRIPT_SIMPLEX,1,(25,125,255),3)\n",
    "    cv2.putText(frame,tracker_name,(20,400),cv2.FONT_HERSHEY_SIMPLEX,1,(25,100,25),3)\n",
    "    cv2.imshow(tracker_name,frame)\n",
    "    if cv2.waitKey(300) & 0xFF == 27:\n",
    "        break\n",
    "cap.release()\n",
    "cv2.destroyAllWindows()"
   ]
  },
  {
   "cell_type": "code",
   "execution_count": null,
   "metadata": {},
   "outputs": [],
   "source": []
  }
 ],
 "metadata": {
  "kernelspec": {
   "display_name": "Python 3",
   "language": "python",
   "name": "python3"
  },
  "language_info": {
   "codemirror_mode": {
    "name": "ipython",
    "version": 3
   },
   "file_extension": ".py",
   "mimetype": "text/x-python",
   "name": "python",
   "nbconvert_exporter": "python",
   "pygments_lexer": "ipython3",
   "version": "3.8.2"
  }
 },
 "nbformat": 4,
 "nbformat_minor": 4
}
