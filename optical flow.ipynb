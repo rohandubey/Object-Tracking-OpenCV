{
 "cells": [
  {
   "cell_type": "raw",
   "metadata": {},
   "source": [
    "tune cascade classifier:\n",
    "    detectMultiscale(img,scale factor, min ngbr)\n",
    "HSV colorspace"
   ]
  },
  {
   "cell_type": "code",
   "execution_count": 4,
   "metadata": {},
   "outputs": [
    {
     "name": "stderr",
     "output_type": "stream",
     "text": [
      "<ipython-input-4-215d0ec43ca2>:48: DeprecationWarning: an integer is required (got type numpy.float32).  Implicit conversion to integers using __int__ is deprecated, and may be removed in a future version of Python.\n",
      "  mask =cv2.line(mask,(a,b),(c,d),color,2)\n",
      "<ipython-input-4-215d0ec43ca2>:50: DeprecationWarning: an integer is required (got type numpy.float32).  Implicit conversion to integers using __int__ is deprecated, and may be removed in a future version of Python.\n",
      "  frame = cv2.circle(frame,(a,b),3,color,-1)\n"
     ]
    }
   ],
   "source": [
    "# part 1\n",
    "# import libraries\n",
    "import cv2\n",
    "import numpy as np\n",
    "\n",
    "# parameters for shi-tomasi corner detection\n",
    "st_params = dict(maxCorners=30,\n",
    "                qualityLevel=0.2,\n",
    "                minDistance=2,\n",
    "                blockSize=7)\n",
    "# parameters for Lucas-Kande optical flow\n",
    "lk_params = dict(winSize= (15,15),\n",
    "                 maxLevel=2,\n",
    "                 criteria=(cv2.TERM_CRITERIA_EPS | cv2.TERM_CRITERIA_COUNT , 10, 1))\n",
    "\n",
    "# Video Capture\n",
    "cap = cv2.VideoCapture(0)\n",
    "\n",
    "# color for optical flow\n",
    "# part 2\n",
    "color= (0,255,0)\n",
    "# read the capture and get the first frame\n",
    "_,frame_t = cap.read()\n",
    "# convert to grayscale\n",
    "prev_gray=cv2.cvtColor(frame_t,cv2.COLOR_BGR2GRAY)\n",
    "# find the strongest corner in the first frame\n",
    "prev = cv2.goodFeaturesToTrack(prev_gray,mask=None,**st_params)\n",
    "# create an image with same the dimensions for the later drawing purposes\n",
    "mask = np.zeros_like(frame_t)\n",
    "\n",
    "# while loop\n",
    "while (cap.isOpened()):\n",
    "    _,frame=cap.read()\n",
    "    frame = cv2.flip(frame,1)\n",
    "    gray=cv2.cvtColor(frame,cv2.COLOR_BGR2GRAY)\n",
    "#     callulate optical flow by lucas-kanade\n",
    "    next,status,error = cv2.calcOpticalFlowPyrLK(prev_gray,gray,prev, None, **lk_params)\n",
    "#     select a good feature for previous position\n",
    "    good_old = prev[status ==1]\n",
    "#     select a good feature for next position\n",
    "    good_new = next[status ==1]\n",
    "#     draw the optical flow track\n",
    "    for i ,(new,old) in enumerate (zip(good_new,good_old)):\n",
    "#         return coordinates for a new point & old point\n",
    "        a,b = new.ravel()\n",
    "        c,d = old.ravel()\n",
    "#         draw a line between new and old points.. which is green\n",
    "        mask =cv2.line(mask,(a,b),(c,d),color,2)\n",
    "#         draw filled circle \n",
    "        frame = cv2.circle(frame,(a,b),3,color,-1)\n",
    "#     overlay optical on origional frame\n",
    "    output = cv2.add(frame,mask)\n",
    "#     update previous pad was acting as a toggle for insert mode.frame\n",
    "    prev_gray = gray.copy()\n",
    "#     update previous good feature points\n",
    "    prev = good_new.reshape(-1,1,2)\n",
    "#     open new window and display output\n",
    "    cv2.imshow(\"Optical Flow\",output)\n",
    "#     close the frame\n",
    "    if cv2.waitKey(300) & 0xFF == ord(\"q\"):\n",
    "        break\n",
    "# release and destroy\n",
    "cap.release()\n",
    "cv2.destroyAllWindows()"
   ]
  },
  {
   "cell_type": "code",
   "execution_count": null,
   "metadata": {},
   "outputs": [],
   "source": []
  },
  {
   "cell_type": "code",
   "execution_count": null,
   "metadata": {},
   "outputs": [],
   "source": []
  }
 ],
 "metadata": {
  "kernelspec": {
   "display_name": "Python 3",
   "language": "python",
   "name": "python3"
  },
  "language_info": {
   "codemirror_mode": {
    "name": "ipython",
    "version": 3
   },
   "file_extension": ".py",
   "mimetype": "text/x-python",
   "name": "python",
   "nbconvert_exporter": "python",
   "pygments_lexer": "ipython3",
   "version": "3.8.2"
  }
 },
 "nbformat": 4,
 "nbformat_minor": 4
}
