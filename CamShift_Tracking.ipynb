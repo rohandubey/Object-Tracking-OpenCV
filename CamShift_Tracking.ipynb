{
 "cells": [
  {
   "cell_type": "markdown",
   "metadata": {},
   "source": [
    "### Import Libraries"
   ]
  },
  {
   "cell_type": "code",
   "execution_count": 1,
   "metadata": {},
   "outputs": [],
   "source": [
    "import cv2\n",
    "import numpy as np\n",
    "cap = cv2.VideoCapture(0)\n",
    "_,frame = cap.read()\n",
    "frame = cv2.flip(frame,1)\n",
    "_,frame = cap.read()\n",
    "frame = cv2.flip(frame,1)\n",
    "face_casc =cv2.CascadeClassifier('haarcascade_frontalface_default.xml')\n",
    "face_rects = face_casc.detectMultiScale(frame)\n",
    "face_x,face_y,w,h=tuple(face_rects[0])\n",
    "track_window = (face_x,face_y,w,h)\n",
    "roi = frame[face_y:face_y+h,face_x:face_y+w]\n",
    "hsv_roi = cv2.cvtColor(roi,cv2.COLOR_BGR2HSV)\n",
    "roi_hist = cv2.calcHist([hsv_roi],[0],None,[180],[0,180])\n",
    "cv2.normalize(roi_hist,roi_hist,0,255,cv2.NORM_MINMAX);\n",
    "term_crit = (cv2.TERM_CRITERIA_EPS | cv2.TERM_CRITERIA_COUNT,10 ,1)"
   ]
  },
  {
   "cell_type": "markdown",
   "metadata": {},
   "source": [
    "### It's a Kind of Magic"
   ]
  },
  {
   "cell_type": "code",
   "execution_count": 2,
   "metadata": {},
   "outputs": [],
   "source": [
    "# While loop\n",
    "while True:\n",
    "\n",
    "    # read capture\n",
    "    ret,frame = cap.read()\n",
    "    frame = cv2.flip(frame,1)\n",
    "    # if statement\n",
    "    if ret == True:\n",
    "    \n",
    "        # Frame in HSV\n",
    "        hsv =  cv2.cvtColor(frame,cv2.COLOR_BGR2HSV)\n",
    "        \n",
    "        # Calculate the base of ROI\n",
    "        dest_roi = cv2.calcBackProject([hsv],[0],roi_hist,[0,180],1)\n",
    "        \n",
    "        # Camshift to get the new coordinates of rectangle\n",
    "        ret,track_window = cv2.CamShift(dest_roi,track_window,term_crit)\n",
    "        \n",
    "        # Draw rectangle on image\n",
    "        pts = cv2.boxPoints(ret)\n",
    "        pts = np.int0(pts)\n",
    "        img2 = cv2.polylines(frame,[pts],True,(0,255,0),5)\n",
    "        \n",
    "        # Open new window and display\n",
    "        cv2.imshow(\"Cam Sfift\",img2)\n",
    "        \n",
    "        # Close window\n",
    "        if cv2.waitKey(300) & 0xFF == 27:\n",
    "            break\n",
    " \n",
    "    # else statement\n",
    "    else:\n",
    "        break\n",
    "    \n",
    "# Release and Destroy\n",
    "cap.release()\n",
    "cv2.destroyAllWindows()\n"
   ]
  }
 ],
 "metadata": {
  "kernelspec": {
   "display_name": "Python 3",
   "language": "python",
   "name": "python3"
  },
  "language_info": {
   "codemirror_mode": {
    "name": "ipython",
    "version": 3
   },
   "file_extension": ".py",
   "mimetype": "text/x-python",
   "name": "python",
   "nbconvert_exporter": "python",
   "pygments_lexer": "ipython3",
   "version": "3.8.2"
  }
 },
 "nbformat": 4,
 "nbformat_minor": 4
}
